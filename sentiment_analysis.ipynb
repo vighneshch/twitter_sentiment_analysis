{
 "cells": [
  {
   "cell_type": "code",
   "execution_count": 196,
   "id": "fbee483d-a6e7-4dd5-bcec-0b9b3ee474b5",
   "metadata": {},
   "outputs": [],
   "source": [
    "#Importing the libraries\n",
    "\n",
    "import numpy as np\n",
    "import pandas as pd\n",
    "import matplotlib.pyplot as plt\n",
    "import seaborn as sns\n",
    "import regex as re\n",
    "\n",
    "from sklearn.neighbors import KNeighborsClassifier\n",
    "from sklearn.linear_model import LogisticRegression\n",
    "from sklearn.model_selection import train_test_split\n",
    "\n",
    "from nltk.corpus import stopwords\n",
    "from wordcloud import WordCloud\n",
    "from nltk.stem import WordNetLemmatizer\n",
    "from sklearn.feature_extraction.text import CountVectorizer,TfidfVectorizer\n",
    "from sklearn.metrics import roc_auc_score,accuracy_score,roc_curve\n",
    "from sklearn.naive_bayes import MultinomialNB,GaussianNB,BernoulliNB,ComplementNB\n",
    "from sklearn.ensemble import RandomForestClassifier"
   ]
  },
  {
   "cell_type": "code",
   "execution_count": 163,
   "id": "7d5b6944-0796-4055-bde5-03ef20490e67",
   "metadata": {},
   "outputs": [
    {
     "data": {
      "text/html": [
       "<div>\n",
       "<style scoped>\n",
       "    .dataframe tbody tr th:only-of-type {\n",
       "        vertical-align: middle;\n",
       "    }\n",
       "\n",
       "    .dataframe tbody tr th {\n",
       "        vertical-align: top;\n",
       "    }\n",
       "\n",
       "    .dataframe thead th {\n",
       "        text-align: right;\n",
       "    }\n",
       "</style>\n",
       "<table border=\"1\" class=\"dataframe\">\n",
       "  <thead>\n",
       "    <tr style=\"text-align: right;\">\n",
       "      <th></th>\n",
       "      <th>id</th>\n",
       "      <th>date</th>\n",
       "      <th>no_query</th>\n",
       "      <th>user</th>\n",
       "      <th>tweet</th>\n",
       "    </tr>\n",
       "  </thead>\n",
       "  <tbody>\n",
       "    <tr>\n",
       "      <th>0</th>\n",
       "      <td>1467810369</td>\n",
       "      <td>Mon Apr 06 22:19:45 PDT 2009</td>\n",
       "      <td>NO_QUERY</td>\n",
       "      <td>_TheSpecialOne_</td>\n",
       "      <td>@switchfoot http://twitpic.com/2y1zl - Awww, t...</td>\n",
       "    </tr>\n",
       "    <tr>\n",
       "      <th>0</th>\n",
       "      <td>1467810672</td>\n",
       "      <td>Mon Apr 06 22:19:49 PDT 2009</td>\n",
       "      <td>NO_QUERY</td>\n",
       "      <td>scotthamilton</td>\n",
       "      <td>is upset that he can't update his Facebook by ...</td>\n",
       "    </tr>\n",
       "    <tr>\n",
       "      <th>0</th>\n",
       "      <td>1467810917</td>\n",
       "      <td>Mon Apr 06 22:19:53 PDT 2009</td>\n",
       "      <td>NO_QUERY</td>\n",
       "      <td>mattycus</td>\n",
       "      <td>@Kenichan I dived many times for the ball. Man...</td>\n",
       "    </tr>\n",
       "    <tr>\n",
       "      <th>0</th>\n",
       "      <td>1467811184</td>\n",
       "      <td>Mon Apr 06 22:19:57 PDT 2009</td>\n",
       "      <td>NO_QUERY</td>\n",
       "      <td>ElleCTF</td>\n",
       "      <td>my whole body feels itchy and like its on fire</td>\n",
       "    </tr>\n",
       "    <tr>\n",
       "      <th>0</th>\n",
       "      <td>1467811193</td>\n",
       "      <td>Mon Apr 06 22:19:57 PDT 2009</td>\n",
       "      <td>NO_QUERY</td>\n",
       "      <td>Karoli</td>\n",
       "      <td>@nationwideclass no, it's not behaving at all....</td>\n",
       "    </tr>\n",
       "  </tbody>\n",
       "</table>\n",
       "</div>"
      ],
      "text/plain": [
       "           id                          date  no_query             user  \\\n",
       "0  1467810369  Mon Apr 06 22:19:45 PDT 2009  NO_QUERY  _TheSpecialOne_   \n",
       "0  1467810672  Mon Apr 06 22:19:49 PDT 2009  NO_QUERY    scotthamilton   \n",
       "0  1467810917  Mon Apr 06 22:19:53 PDT 2009  NO_QUERY         mattycus   \n",
       "0  1467811184  Mon Apr 06 22:19:57 PDT 2009  NO_QUERY          ElleCTF   \n",
       "0  1467811193  Mon Apr 06 22:19:57 PDT 2009  NO_QUERY           Karoli   \n",
       "\n",
       "                                               tweet  \n",
       "0  @switchfoot http://twitpic.com/2y1zl - Awww, t...  \n",
       "0  is upset that he can't update his Facebook by ...  \n",
       "0  @Kenichan I dived many times for the ball. Man...  \n",
       "0    my whole body feels itchy and like its on fire   \n",
       "0  @nationwideclass no, it's not behaving at all....  "
      ]
     },
     "execution_count": 163,
     "metadata": {},
     "output_type": "execute_result"
    }
   ],
   "source": [
    "#Loading the dataset\n",
    "\n",
    "df = pd.read_csv('D:\\\\DataScience\\\\1.Personal Projects\\\\Datasets\\\\Twitter Sentiment Analysis\\\\training.1600000.processed.noemoticon.csv',encoding='iso-8859-1',names = ['id','date','no_query','user','tweet'])\n",
    "df.head()"
   ]
  },
  {
   "cell_type": "code",
   "execution_count": 164,
   "id": "7ef57bff-a5de-4ae1-8fda-1d0c388104b8",
   "metadata": {},
   "outputs": [],
   "source": [
    "#Dropping the unwanted columns\n",
    "\n",
    "df.drop(['id','date','no_query','user'],axis=1,inplace=True)"
   ]
  },
  {
   "cell_type": "code",
   "execution_count": 165,
   "id": "8f9bbe9f-6f33-45ca-b804-e5cafe4775b9",
   "metadata": {},
   "outputs": [
    {
     "data": {
      "text/html": [
       "<div>\n",
       "<style scoped>\n",
       "    .dataframe tbody tr th:only-of-type {\n",
       "        vertical-align: middle;\n",
       "    }\n",
       "\n",
       "    .dataframe tbody tr th {\n",
       "        vertical-align: top;\n",
       "    }\n",
       "\n",
       "    .dataframe thead th {\n",
       "        text-align: right;\n",
       "    }\n",
       "</style>\n",
       "<table border=\"1\" class=\"dataframe\">\n",
       "  <thead>\n",
       "    <tr style=\"text-align: right;\">\n",
       "      <th></th>\n",
       "      <th>index</th>\n",
       "      <th>tweet</th>\n",
       "    </tr>\n",
       "  </thead>\n",
       "  <tbody>\n",
       "    <tr>\n",
       "      <th>0</th>\n",
       "      <td>0</td>\n",
       "      <td>@switchfoot http://twitpic.com/2y1zl - Awww, t...</td>\n",
       "    </tr>\n",
       "    <tr>\n",
       "      <th>1</th>\n",
       "      <td>0</td>\n",
       "      <td>is upset that he can't update his Facebook by ...</td>\n",
       "    </tr>\n",
       "    <tr>\n",
       "      <th>2</th>\n",
       "      <td>0</td>\n",
       "      <td>@Kenichan I dived many times for the ball. Man...</td>\n",
       "    </tr>\n",
       "    <tr>\n",
       "      <th>3</th>\n",
       "      <td>0</td>\n",
       "      <td>my whole body feels itchy and like its on fire</td>\n",
       "    </tr>\n",
       "    <tr>\n",
       "      <th>4</th>\n",
       "      <td>0</td>\n",
       "      <td>@nationwideclass no, it's not behaving at all....</td>\n",
       "    </tr>\n",
       "  </tbody>\n",
       "</table>\n",
       "</div>"
      ],
      "text/plain": [
       "   index                                              tweet\n",
       "0      0  @switchfoot http://twitpic.com/2y1zl - Awww, t...\n",
       "1      0  is upset that he can't update his Facebook by ...\n",
       "2      0  @Kenichan I dived many times for the ball. Man...\n",
       "3      0    my whole body feels itchy and like its on fire \n",
       "4      0  @nationwideclass no, it's not behaving at all...."
      ]
     },
     "execution_count": 165,
     "metadata": {},
     "output_type": "execute_result"
    }
   ],
   "source": [
    "df.reset_index(inplace=True)\n",
    "df.head()"
   ]
  },
  {
   "cell_type": "code",
   "execution_count": 166,
   "id": "0adad5c0-d4ba-4214-93bf-1e8af13b3325",
   "metadata": {},
   "outputs": [
    {
     "data": {
      "text/html": [
       "<div>\n",
       "<style scoped>\n",
       "    .dataframe tbody tr th:only-of-type {\n",
       "        vertical-align: middle;\n",
       "    }\n",
       "\n",
       "    .dataframe tbody tr th {\n",
       "        vertical-align: top;\n",
       "    }\n",
       "\n",
       "    .dataframe thead th {\n",
       "        text-align: right;\n",
       "    }\n",
       "</style>\n",
       "<table border=\"1\" class=\"dataframe\">\n",
       "  <thead>\n",
       "    <tr style=\"text-align: right;\">\n",
       "      <th></th>\n",
       "      <th>sentiment</th>\n",
       "      <th>tweet</th>\n",
       "    </tr>\n",
       "  </thead>\n",
       "  <tbody>\n",
       "    <tr>\n",
       "      <th>0</th>\n",
       "      <td>0</td>\n",
       "      <td>@switchfoot http://twitpic.com/2y1zl - Awww, t...</td>\n",
       "    </tr>\n",
       "    <tr>\n",
       "      <th>1</th>\n",
       "      <td>0</td>\n",
       "      <td>is upset that he can't update his Facebook by ...</td>\n",
       "    </tr>\n",
       "    <tr>\n",
       "      <th>2</th>\n",
       "      <td>0</td>\n",
       "      <td>@Kenichan I dived many times for the ball. Man...</td>\n",
       "    </tr>\n",
       "    <tr>\n",
       "      <th>3</th>\n",
       "      <td>0</td>\n",
       "      <td>my whole body feels itchy and like its on fire</td>\n",
       "    </tr>\n",
       "    <tr>\n",
       "      <th>4</th>\n",
       "      <td>0</td>\n",
       "      <td>@nationwideclass no, it's not behaving at all....</td>\n",
       "    </tr>\n",
       "  </tbody>\n",
       "</table>\n",
       "</div>"
      ],
      "text/plain": [
       "   sentiment                                              tweet\n",
       "0          0  @switchfoot http://twitpic.com/2y1zl - Awww, t...\n",
       "1          0  is upset that he can't update his Facebook by ...\n",
       "2          0  @Kenichan I dived many times for the ball. Man...\n",
       "3          0    my whole body feels itchy and like its on fire \n",
       "4          0  @nationwideclass no, it's not behaving at all...."
      ]
     },
     "execution_count": 166,
     "metadata": {},
     "output_type": "execute_result"
    }
   ],
   "source": [
    "#Chanign the col_names\n",
    "\n",
    "df.columns = ['sentiment','tweet']\n",
    "df.head()"
   ]
  },
  {
   "cell_type": "code",
   "execution_count": 167,
   "id": "af1ba7da-a938-4d7e-9f64-5a76e098b584",
   "metadata": {},
   "outputs": [],
   "source": [
    "#Function to clearn the text\n",
    "\n",
    "def clean_text(text):\n",
    "    #Converting all the text to a lowercase for dimensionality reduction\n",
    "    text = str(text).lower() \n",
    "\n",
    "    #Removing the handle names from the tweet\n",
    "    text = re.sub('@\\w+','',text)\n",
    "\n",
    "    #Removing the urls from the tweet\n",
    "    text = re.sub('https?://\\S+|www\\.\\S+','',text)\n",
    "\n",
    "    #Removing the punctuation marks from the tweet\n",
    "    text = re.sub('[\\./?,\\[\\]:;\\,.\\-_]','',text)\n",
    "\n",
    "    #Removing the new line characters\n",
    "    text = re.sub('\\n','',text)\n",
    "\n",
    "    #Removing any words that are starting with the nnumber\n",
    "    text = re.sub('\\d+','',text)\n",
    "    return text"
   ]
  },
  {
   "cell_type": "code",
   "execution_count": 168,
   "id": "0d3cbc86-460e-4470-ab15-fa40480f86e7",
   "metadata": {},
   "outputs": [
    {
     "data": {
      "text/html": [
       "<div>\n",
       "<style scoped>\n",
       "    .dataframe tbody tr th:only-of-type {\n",
       "        vertical-align: middle;\n",
       "    }\n",
       "\n",
       "    .dataframe tbody tr th {\n",
       "        vertical-align: top;\n",
       "    }\n",
       "\n",
       "    .dataframe thead th {\n",
       "        text-align: right;\n",
       "    }\n",
       "</style>\n",
       "<table border=\"1\" class=\"dataframe\">\n",
       "  <thead>\n",
       "    <tr style=\"text-align: right;\">\n",
       "      <th></th>\n",
       "      <th>sentiment</th>\n",
       "      <th>tweet</th>\n",
       "      <th>tweet_clean</th>\n",
       "    </tr>\n",
       "  </thead>\n",
       "  <tbody>\n",
       "    <tr>\n",
       "      <th>0</th>\n",
       "      <td>0</td>\n",
       "      <td>@switchfoot http://twitpic.com/2y1zl - Awww, t...</td>\n",
       "      <td>awww that's a bummer  you shoulda got david...</td>\n",
       "    </tr>\n",
       "    <tr>\n",
       "      <th>1</th>\n",
       "      <td>0</td>\n",
       "      <td>is upset that he can't update his Facebook by ...</td>\n",
       "      <td>is upset that he can't update his facebook by ...</td>\n",
       "    </tr>\n",
       "    <tr>\n",
       "      <th>2</th>\n",
       "      <td>0</td>\n",
       "      <td>@Kenichan I dived many times for the ball. Man...</td>\n",
       "      <td>i dived many times for the ball managed to sa...</td>\n",
       "    </tr>\n",
       "    <tr>\n",
       "      <th>3</th>\n",
       "      <td>0</td>\n",
       "      <td>my whole body feels itchy and like its on fire</td>\n",
       "      <td>my whole body feels itchy and like its on fire</td>\n",
       "    </tr>\n",
       "    <tr>\n",
       "      <th>4</th>\n",
       "      <td>0</td>\n",
       "      <td>@nationwideclass no, it's not behaving at all....</td>\n",
       "      <td>no it's not behaving at all i'm mad why am i ...</td>\n",
       "    </tr>\n",
       "  </tbody>\n",
       "</table>\n",
       "</div>"
      ],
      "text/plain": [
       "   sentiment                                              tweet  \\\n",
       "0          0  @switchfoot http://twitpic.com/2y1zl - Awww, t...   \n",
       "1          0  is upset that he can't update his Facebook by ...   \n",
       "2          0  @Kenichan I dived many times for the ball. Man...   \n",
       "3          0    my whole body feels itchy and like its on fire    \n",
       "4          0  @nationwideclass no, it's not behaving at all....   \n",
       "\n",
       "                                         tweet_clean  \n",
       "0     awww that's a bummer  you shoulda got david...  \n",
       "1  is upset that he can't update his facebook by ...  \n",
       "2   i dived many times for the ball managed to sa...  \n",
       "3    my whole body feels itchy and like its on fire   \n",
       "4   no it's not behaving at all i'm mad why am i ...  "
      ]
     },
     "execution_count": 168,
     "metadata": {},
     "output_type": "execute_result"
    }
   ],
   "source": [
    "df['tweet_clean'] = df['tweet'].apply(clean_text)\n",
    "df.head()"
   ]
  },
  {
   "cell_type": "code",
   "execution_count": 169,
   "id": "789dac8a-8f76-4fd7-8e57-c00cd02c3bbe",
   "metadata": {},
   "outputs": [],
   "source": [
    "#Function to remove stopwords\n",
    "stop_words = stopwords.words('English')\n",
    "def remove_stopwords(text):\n",
    "    text = ' '.join([word for word in text.split(' ') if word not in stop_words])\n",
    "    return text"
   ]
  },
  {
   "cell_type": "code",
   "execution_count": 170,
   "id": "808dcbe0-2b6f-4f01-bd69-47d842be24e1",
   "metadata": {},
   "outputs": [],
   "source": [
    "df['tweet_clean_stopwords_removed'] = df['tweet_clean'].apply(remove_stopwords)"
   ]
  },
  {
   "cell_type": "code",
   "execution_count": 171,
   "id": "458b6fa6-78fa-41b9-b5f5-54a7ce06063f",
   "metadata": {},
   "outputs": [],
   "source": [
    "df.drop(['tweet','tweet_clean'],axis=1,inplace=True)"
   ]
  },
  {
   "cell_type": "code",
   "execution_count": 172,
   "id": "77e7398b-26de-4923-b8da-d5a505f9a024",
   "metadata": {},
   "outputs": [
    {
     "data": {
      "text/html": [
       "<div>\n",
       "<style scoped>\n",
       "    .dataframe tbody tr th:only-of-type {\n",
       "        vertical-align: middle;\n",
       "    }\n",
       "\n",
       "    .dataframe tbody tr th {\n",
       "        vertical-align: top;\n",
       "    }\n",
       "\n",
       "    .dataframe thead th {\n",
       "        text-align: right;\n",
       "    }\n",
       "</style>\n",
       "<table border=\"1\" class=\"dataframe\">\n",
       "  <thead>\n",
       "    <tr style=\"text-align: right;\">\n",
       "      <th></th>\n",
       "      <th>sentiment</th>\n",
       "      <th>tweet_clean_stopwords_removed</th>\n",
       "    </tr>\n",
       "  </thead>\n",
       "  <tbody>\n",
       "    <tr>\n",
       "      <th>0</th>\n",
       "      <td>0</td>\n",
       "      <td>awww that's bummer  shoulda got david carr ...</td>\n",
       "    </tr>\n",
       "    <tr>\n",
       "      <th>1</th>\n",
       "      <td>0</td>\n",
       "      <td>upset can't update facebook texting might cry ...</td>\n",
       "    </tr>\n",
       "    <tr>\n",
       "      <th>2</th>\n",
       "      <td>0</td>\n",
       "      <td>dived many times ball managed save %  rest go...</td>\n",
       "    </tr>\n",
       "    <tr>\n",
       "      <th>3</th>\n",
       "      <td>0</td>\n",
       "      <td>whole body feels itchy like fire</td>\n",
       "    </tr>\n",
       "    <tr>\n",
       "      <th>4</th>\n",
       "      <td>0</td>\n",
       "      <td>behaving i'm mad can't see</td>\n",
       "    </tr>\n",
       "  </tbody>\n",
       "</table>\n",
       "</div>"
      ],
      "text/plain": [
       "   sentiment                      tweet_clean_stopwords_removed\n",
       "0          0     awww that's bummer  shoulda got david carr ...\n",
       "1          0  upset can't update facebook texting might cry ...\n",
       "2          0   dived many times ball managed save %  rest go...\n",
       "3          0                  whole body feels itchy like fire \n",
       "4          0                        behaving i'm mad can't see "
      ]
     },
     "execution_count": 172,
     "metadata": {},
     "output_type": "execute_result"
    }
   ],
   "source": [
    "df.head()"
   ]
  },
  {
   "cell_type": "code",
   "execution_count": 173,
   "id": "757f725b-2c3b-4f98-9297-7c3a736368ad",
   "metadata": {},
   "outputs": [],
   "source": [
    "def lemmatization(text):\n",
    "    lemma = WordNetLemmatizer()\n",
    "    text = ' '.join([lemma.lemmatize(word) for word in text.split(' ')])\n",
    "    return text\n",
    "df['tweet_clean_lemmatized'] = df['tweet_clean_stopwords_removed'].apply(lemmatization)"
   ]
  },
  {
   "cell_type": "code",
   "execution_count": 174,
   "id": "ba70e099-fa8f-4ee0-b921-9c4fdd8c0cad",
   "metadata": {},
   "outputs": [
    {
     "data": {
      "text/html": [
       "<div>\n",
       "<style scoped>\n",
       "    .dataframe tbody tr th:only-of-type {\n",
       "        vertical-align: middle;\n",
       "    }\n",
       "\n",
       "    .dataframe tbody tr th {\n",
       "        vertical-align: top;\n",
       "    }\n",
       "\n",
       "    .dataframe thead th {\n",
       "        text-align: right;\n",
       "    }\n",
       "</style>\n",
       "<table border=\"1\" class=\"dataframe\">\n",
       "  <thead>\n",
       "    <tr style=\"text-align: right;\">\n",
       "      <th></th>\n",
       "      <th>sentiment</th>\n",
       "      <th>tweet_clean_stopwords_removed</th>\n",
       "      <th>tweet_clean_lemmatized</th>\n",
       "    </tr>\n",
       "  </thead>\n",
       "  <tbody>\n",
       "    <tr>\n",
       "      <th>0</th>\n",
       "      <td>0</td>\n",
       "      <td>awww that's bummer  shoulda got david carr ...</td>\n",
       "      <td>awww that's bummer  shoulda got david carr ...</td>\n",
       "    </tr>\n",
       "    <tr>\n",
       "      <th>1</th>\n",
       "      <td>0</td>\n",
       "      <td>upset can't update facebook texting might cry ...</td>\n",
       "      <td>upset can't update facebook texting might cry ...</td>\n",
       "    </tr>\n",
       "    <tr>\n",
       "      <th>2</th>\n",
       "      <td>0</td>\n",
       "      <td>dived many times ball managed save %  rest go...</td>\n",
       "      <td>dived many time ball managed save %  rest go ...</td>\n",
       "    </tr>\n",
       "    <tr>\n",
       "      <th>3</th>\n",
       "      <td>0</td>\n",
       "      <td>whole body feels itchy like fire</td>\n",
       "      <td>whole body feel itchy like fire</td>\n",
       "    </tr>\n",
       "    <tr>\n",
       "      <th>4</th>\n",
       "      <td>0</td>\n",
       "      <td>behaving i'm mad can't see</td>\n",
       "      <td>behaving i'm mad can't see</td>\n",
       "    </tr>\n",
       "  </tbody>\n",
       "</table>\n",
       "</div>"
      ],
      "text/plain": [
       "   sentiment                      tweet_clean_stopwords_removed  \\\n",
       "0          0     awww that's bummer  shoulda got david carr ...   \n",
       "1          0  upset can't update facebook texting might cry ...   \n",
       "2          0   dived many times ball managed save %  rest go...   \n",
       "3          0                  whole body feels itchy like fire    \n",
       "4          0                        behaving i'm mad can't see    \n",
       "\n",
       "                              tweet_clean_lemmatized  \n",
       "0     awww that's bummer  shoulda got david carr ...  \n",
       "1  upset can't update facebook texting might cry ...  \n",
       "2   dived many time ball managed save %  rest go ...  \n",
       "3                   whole body feel itchy like fire   \n",
       "4                        behaving i'm mad can't see   "
      ]
     },
     "execution_count": 174,
     "metadata": {},
     "output_type": "execute_result"
    }
   ],
   "source": [
    "df.head()"
   ]
  },
  {
   "cell_type": "code",
   "execution_count": 175,
   "id": "637d4138-bad5-4119-860f-af36a0515b8f",
   "metadata": {},
   "outputs": [
    {
     "data": {
      "image/png": "[encoded data removed]",
      "text/plain": [
       "<Figure size 1000x600 with 2 Axes>"
      ]
     },
     "metadata": {},
     "output_type": "display_data"
    }
   ],
   "source": [
    "#Length of tweets in each category\n",
    "fig,(ax1,ax2) = plt.subplots(nrows=1,ncols=2,figsize=(10,6))\n",
    "tweet_len = df[df['sentiment']==0]['tweet_clean_lemmatized'].str.split().apply(lambda x:len(x))\n",
    "sns.histplot(tweet_len,ax=ax1,color ='red',bins=10)\n",
    "ax1.set_title(\"negative Tweets\")\n",
    "\n",
    "tweet_len = df[df['sentiment']==4]['tweet_clean_lemmatized'].str.split().apply(lambda x:len(x))\n",
    "sns.histplot(tweet_len,ax=ax2,color='green',bins=10)\n",
    "ax2.set_title(\"Positive Tweets\")\n",
    "plt.show()"
   ]
  },
  {
   "cell_type": "code",
   "execution_count": 176,
   "id": "3aa7885d-62be-42e3-8aaa-419a1f9c5bdb",
   "metadata": {},
   "outputs": [
    {
     "data": {
      "text/plain": [
       "sentiment\n",
       "0    800000\n",
       "4    800000\n",
       "Name: count, dtype: int64"
      ]
     },
     "execution_count": 176,
     "metadata": {},
     "output_type": "execute_result"
    }
   ],
   "source": [
    "df['sentiment'].value_counts()"
   ]
  },
  {
   "cell_type": "code",
   "execution_count": 185,
   "id": "6d9d92f5-b81c-46ab-a56b-f30b546fc047",
   "metadata": {},
   "outputs": [],
   "source": [
    "#Train Test Split\n",
    "#df['sentiment'] = df['sentiment'].map({0:1,4:0})\n",
    "X = df[['tweet_clean_lemmatized']]\n",
    "y = df['sentiment']\n",
    "\n",
    "X_train,X_test,y_train,y_test = train_test_split(X,y,test_size=0.1,random_state=42)"
   ]
  },
  {
   "cell_type": "code",
   "execution_count": 186,
   "id": "67632d19-ff9e-4edd-9fa0-16ca34a30eae",
   "metadata": {},
   "outputs": [
    {
     "data": {
      "text/plain": [
       "((1440000, 1), (1440000,), (160000, 1), (160000,))"
      ]
     },
     "execution_count": 186,
     "metadata": {},
     "output_type": "execute_result"
    }
   ],
   "source": [
    "X_train.shape,y_train.shape,X_test.shape,y_test.shape"
   ]
  },
  {
   "cell_type": "code",
   "execution_count": 187,
   "id": "07bce564-70c7-474d-8b37-f19b2750c412",
   "metadata": {},
   "outputs": [],
   "source": [
    "#Count Vectorizng the data\n",
    "\n",
    "cv = CountVectorizer(stop_words='english')\n",
    "X_traint = cv.fit_transform(X_train['tweet_clean_lemmatized'])\n",
    "X_testt = cv.transform(X_test['tweet_clean_lemmatized'])"
   ]
  },
  {
   "cell_type": "code",
   "execution_count": 188,
   "id": "93cc83af-ebf4-4166-b12a-7073a1fa0acb",
   "metadata": {},
   "outputs": [
    {
     "data": {
      "text/plain": [
       "(1440000, 362440)"
      ]
     },
     "execution_count": 188,
     "metadata": {},
     "output_type": "execute_result"
    }
   ],
   "source": [
    "X_traint.shape"
   ]
  },
  {
   "cell_type": "code",
   "execution_count": 189,
   "id": "6c897cfd-6dcf-45fa-9989-a3930d1aac96",
   "metadata": {},
   "outputs": [
    {
     "data": {
      "text/plain": [
       "(160000, 362440)"
      ]
     },
     "execution_count": 189,
     "metadata": {},
     "output_type": "execute_result"
    }
   ],
   "source": [
    "X_testt.shape"
   ]
  },
  {
   "cell_type": "code",
   "execution_count": 193,
   "id": "585f5492-20ff-49d4-88e6-b24bca81eb58",
   "metadata": {},
   "outputs": [
    {
     "name": "stdout",
     "output_type": "stream",
     "text": [
      "The train accuracy for Knn 0.7982361111111111\n",
      "The test accuracy for knn 0.76206875\n"
     ]
    }
   ],
   "source": [
    "#Model building\n",
    "\n",
    "model_mnb = MultinomialNB()\n",
    "model_mnb.fit(X_traint,y_train)\n",
    "\n",
    "y_test_pred = model_mnb.predict(X_testt)\n",
    "y_train_pred = model_mnb.predict(X_traint)\n",
    "\n",
    "y_train_accuracy = accuracy_score(y_train,y_train_pred)\n",
    "y_test_accuracy = accuracy_score(y_test,y_test_pred)\n",
    "\n",
    "print('The train accuracy for Knn',y_train_accuracy)\n",
    "print('The test accuracy for knn',y_test_accuracy)"
   ]
  },
  {
   "cell_type": "code",
   "execution_count": null,
   "id": "56cd2260-ff8c-4b12-b453-55b297a0e22c",
   "metadata": {},
   "outputs": [],
   "source": [
    "#Model building\n",
    "\n",
    "model_rf = RandomForestClassifier()\n",
    "model_rf.fit(X_traint,y_train)\n",
    "\n",
    "y_test_pred = model_rf.predict(X_testt)\n",
    "y_train_pred = model_rf.predict(X_traint)\n",
    "\n",
    "y_train_accuracy = accuracy_score(y_train,y_train_pred)\n",
    "y_test_accuracy = accuracy_score(y_test,y_test_pred)\n",
    "\n",
    "print('The train accuracy for Knn',y_train_accuracy)\n",
    "print('The test accuracy for knn',y_test_accuracy)"
   ]
  },
  {
   "cell_type": "code",
   "execution_count": null,
   "id": "91319ea3-d977-461f-861c-c60a1e8c0aa5",
   "metadata": {},
   "outputs": [],
   "source": []
  }
 ],
 "metadata": {
  "kernelspec": {
   "display_name": "Python 3 (ipykernel)",
   "language": "python",
   "name": "python3"
  },
  "language_info": {
   "codemirror_mode": {
    "name": "ipython",
    "version": 3
   },
   "file_extension": ".py",
   "mimetype": "text/x-python",
   "name": "python",
   "nbconvert_exporter": "python",
   "pygments_lexer": "ipython3",
   "version": "3.11.5"
  }
 },
 "nbformat": 4,
 "nbformat_minor": 5
}
